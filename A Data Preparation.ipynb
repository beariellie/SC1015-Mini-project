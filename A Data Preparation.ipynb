{
 "cells": [
  {
   "cell_type": "markdown",
   "id": "64293419",
   "metadata": {},
   "source": [
    "# Data Preparation\n",
    "\n",
    "### Sentiment Scores Extraction\n",
    "We successfully converted the sentiment_scores into separate columns for positive, neutral, and negative sentiments.\n",
    "### Missing Values Handling\n",
    "Rows with missing budget values were dropped. As a result, there are no missing values in the key columns (budget, gross, genre, positive, neutral, negative) we're interested in.\n",
    "### Remove unesable state\n",
    "Remove rows with impossible values and movies published before 2000, to ensure the relevancy of the dataset. \n",
    "### Duplicate Entries\n",
    "We checked for and removed duplicate entries, ensuring the dataset is now free of duplicates.\n",
    "### Create Column\n",
    "A general rule for qualifying a movie as a “financial success” is to compare its gross revenue to twice its reported budget.\n",
    "### Save csv"
   ]
  },
  {
   "cell_type": "code",
   "execution_count": 21,
   "id": "d8faf62b",
   "metadata": {},
   "outputs": [
    {
     "name": "stdout",
     "output_type": "stream",
     "text": [
      "<class 'pandas.core.frame.DataFrame'>\n",
      "RangeIndex: 1105 entries, 0 to 1104\n",
      "Data columns (total 18 columns):\n",
      " #   Column            Non-Null Count  Dtype  \n",
      "---  ------            --------------  -----  \n",
      " 0   name              1105 non-null   object \n",
      " 1   trailer_link      1105 non-null   object \n",
      " 2   video_id          1105 non-null   object \n",
      " 3   sentiment_scores  1105 non-null   object \n",
      " 4   favorability      1105 non-null   float64\n",
      " 5   rating            1104 non-null   object \n",
      " 6   genre             1105 non-null   object \n",
      " 7   year              1105 non-null   int64  \n",
      " 8   released          1105 non-null   object \n",
      " 9   votes             1105 non-null   float64\n",
      " 10  director          1105 non-null   object \n",
      " 11  writer            1104 non-null   object \n",
      " 12  star              1105 non-null   object \n",
      " 13  country           1105 non-null   object \n",
      " 14  budget            901 non-null    float64\n",
      " 15  gross             1105 non-null   float64\n",
      " 16  company           1105 non-null   object \n",
      " 17  runtime           1104 non-null   float64\n",
      "dtypes: float64(5), int64(1), object(12)\n",
      "memory usage: 155.5+ KB\n",
      "\n",
      "<class 'pandas.core.frame.DataFrame'>\n",
      "Index: 874 entries, 0 to 1104\n",
      "Data columns (total 20 columns):\n",
      " #   Column              Non-Null Count  Dtype  \n",
      "---  ------              --------------  -----  \n",
      " 0   name                874 non-null    object \n",
      " 1   sentiment_scores    874 non-null    object \n",
      " 2   favorability        874 non-null    float64\n",
      " 3   rating              874 non-null    object \n",
      " 4   genre               874 non-null    object \n",
      " 5   year                874 non-null    int64  \n",
      " 6   released            874 non-null    object \n",
      " 7   votes               874 non-null    float64\n",
      " 8   director            874 non-null    object \n",
      " 9   writer              874 non-null    object \n",
      " 10  star                874 non-null    object \n",
      " 11  country             874 non-null    object \n",
      " 12  budget              874 non-null    float64\n",
      " 13  gross               874 non-null    float64\n",
      " 14  company             874 non-null    object \n",
      " 15  runtime             874 non-null    float64\n",
      " 16  positive_sentiment  874 non-null    int64  \n",
      " 17  neutral_sentiment   874 non-null    int64  \n",
      " 18  negative_sentiment  874 non-null    int64  \n",
      " 19  success             874 non-null    int64  \n",
      "dtypes: float64(5), int64(5), object(10)\n",
      "memory usage: 143.4+ KB\n"
     ]
    }
   ],
   "source": [
    "import pandas as pd\n",
    "\n",
    "# Load the dataset\n",
    "df = pd.read_csv('movies_youtube_sentiments.csv')\n",
    "df.info()\n",
    "\n",
    "# Parse the sentiment_scores dictionary and create separate columns\n",
    "df[['positive_sentiment', 'neutral_sentiment', 'negative_sentiment']] = df['sentiment_scores'].apply(lambda x: pd.Series(eval(x)))\n",
    "\n",
    "# Drop rows with missing values in the 'budget' column\n",
    "df_cleaned = df.dropna()\n",
    "\n",
    "# Drops columns with any NaN\n",
    "df_cleaned = df_cleaned.dropna(axis=1)  # Drops columns with any NaN\n",
    "\n",
    "# remove unusable date\n",
    "df_cleaned = df_cleaned[(df_cleaned['runtime'] > 0) & (df_cleaned['runtime'].notnull()) &\n",
    "                        (df_cleaned['gross'] != 0) & (df_cleaned['gross'].notnull()) &\n",
    "                        (df_cleaned['budget'] != 0) & (df_cleaned['budget'].notnull()) &\n",
    "                        (df_cleaned['year'] >= 2000)]\n",
    "\n",
    "# Check for and remove duplicate entries\n",
    "df_cleaned = df_cleaned.drop_duplicates()\n",
    "\n",
    "# create success column\n",
    "# movie is successful if (gross revenue >= budget * 2)\n",
    "df_cleaned['success'] = (df_cleaned['gross'] >= 2 * df_cleaned['budget']).astype(int)\n",
    "\n",
    "# remove unused columns\n",
    "df_cleaned = df_cleaned.drop(columns=['trailer_link','video_id'])\n",
    "\n",
    "# Display information about the cleaned dataset\n",
    "print()\n",
    "df_cleaned.info()"
   ]
  },
  {
   "cell_type": "code",
   "execution_count": 19,
   "id": "8dad9c5b",
   "metadata": {},
   "outputs": [
    {
     "name": "stdout",
     "output_type": "stream",
     "text": [
      "CSV file saved as cleaned_movies_dataset.csv\n"
     ]
    }
   ],
   "source": [
    "# Save the modified DataFrame to a new CSV file\n",
    "output_path = \"cleaned_movies_dataset.csv\"\n",
    "df_cleaned.to_csv(output_path, index=False)\n",
    "\n",
    "print(f\"CSV file saved as {output_path}\")"
   ]
  }
 ],
 "metadata": {
  "kernelspec": {
   "display_name": "Python 3 (ipykernel)",
   "language": "python",
   "name": "python3"
  },
  "language_info": {
   "codemirror_mode": {
    "name": "ipython",
    "version": 3
   },
   "file_extension": ".py",
   "mimetype": "text/x-python",
   "name": "python",
   "nbconvert_exporter": "python",
   "pygments_lexer": "ipython3",
   "version": "3.11.5"
  }
 },
 "nbformat": 4,
 "nbformat_minor": 5
}
